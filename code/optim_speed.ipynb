{
 "cells": [
  {
   "cell_type": "code",
   "execution_count": 2,
   "metadata": {},
   "outputs": [],
   "source": [
    "import time                             # sys time\n",
    "import numpy as np                      # numpy library for matrix computations\n",
    "import matplotlib.pyplot as plt         # plot\n",
    "from walk_simulation import walk_run"
   ]
  },
  {
   "cell_type": "code",
   "execution_count": 3,
   "metadata": {},
   "outputs": [],
   "source": [
    "def run_episode(stepLength,stepDuration):\n",
    "\n",
    "    #In this part we will specify the steps position and duration and we will implement foot trajectory generation\n",
    "    params = {\n",
    "        \"doubleSupportDuration\" : 0.25,\n",
    "        \"stepDuration\" : stepDuration,\n",
    "        \"pelvisHeight\" : 0.7,\n",
    "        \"maximumFootHeight\" : 0.07,\n",
    "        \"stepWidth\" :0.12,\n",
    "        \"stepLength\" : stepLength,\n",
    "        \"numberOfFootPrints\" :17,\n",
    "        \"GUI\" : False,\n",
    "    }\n",
    "\n",
    "    t = time.time()\n",
    "    vel, pos, delta_time = walk_run(params)\n",
    "    elapsed = time.time() - t\n",
    "    print(str(elapsed) + \" seconds to run simulation\")\n",
    "    \n",
    "    average_speed = grade(pos,vel,delta_time)\n",
    "    \n",
    "    return vel, pos, delta_time, average_speed\n",
    "    \n",
    "    "
   ]
  },
  {
   "cell_type": "code",
   "execution_count": 4,
   "metadata": {},
   "outputs": [],
   "source": [
    "def grade(pos,vel,delta_time):\n",
    "    x_pos = pos[:,0]\n",
    "    x_dist = x_pos[-1] - x_pos[0]\n",
    "    average_velocity = x_dist / delta_time\n",
    "    return average_velocity"
   ]
  },
  {
   "cell_type": "markdown",
   "metadata": {},
   "source": [
    "## Single simulation example"
   ]
  },
  {
   "cell_type": "code",
   "execution_count": 6,
   "metadata": {},
   "outputs": [
    {
     "name": "stdout",
     "output_type": "stream",
     "text": [
      "Successfull sim !\n",
      "6.5045201778411865 seconds to run simulation\n"
     ]
    },
    {
     "name": "stderr",
     "output_type": "stream",
     "text": [
      "/Users/renard/Documents/etudes/EPFLMA3/Legged/project/legged_dcm_project/code/walk_simulation.py:198: VisibleDeprecationWarning: Creating an ndarray from ragged nested sequences (which is a list-or-tuple of lists-or-tuples-or ndarrays with different lengths or shapes) is deprecated. If you meant to do this, you must specify 'dtype=object' when creating the ndarray.\n",
      "  pos = np.array([*np.array(positions)[:,0]])\n",
      "/Library/Frameworks/Python.framework/Versions/3.8/lib/python3.8/site-packages/numpy/lib/npyio.py:528: VisibleDeprecationWarning: Creating an ndarray from ragged nested sequences (which is a list-or-tuple of lists-or-tuples-or ndarrays with different lengths or shapes) is deprecated. If you meant to do this, you must specify 'dtype=object' when creating the ndarray.\n",
      "  arr = np.asanyarray(arr)\n"
     ]
    }
   ],
   "source": [
    "stepLength = 0.1\n",
    "stepDuration = 1.2\n",
    "vel, pos, delta_time, average_speed = run_episode(stepLength,stepDuration)"
   ]
  },
  {
   "cell_type": "markdown",
   "metadata": {},
   "source": [
    "## Grid Search"
   ]
  },
  {
   "cell_type": "code",
   "execution_count": 42,
   "metadata": {},
   "outputs": [
    {
     "name": "stdout",
     "output_type": "stream",
     "text": [
      "sample number = 63\n",
      "estimated time = 6.3 [min]\n"
     ]
    }
   ],
   "source": [
    "stepDurationSpace=np.arange(0.7,1.4,0.1)\n",
    "stepLengthSpace=np.arange(0.05,0.5,0.05)\n",
    "\n",
    "sample_number = len(stepDurationSpace) * len(stepLengthSpace)\n",
    "est_time = 6 * sample_number\n",
    "\n",
    "print(\"sample number = \" + str(sample_number))\n",
    "print(\"estimated time = \" + str(est_time/60) + \" [min]\")"
   ]
  },
  {
   "cell_type": "code",
   "execution_count": 43,
   "metadata": {},
   "outputs": [
    {
     "name": "stdout",
     "output_type": "stream",
     "text": [
      "Length = 0.05 , Duration = 0.7\n"
     ]
    },
    {
     "name": "stderr",
     "output_type": "stream",
     "text": [
      "/Users/renard/Documents/etudes/EPFLMA3/Legged/project/legged_dcm_project/code/walk_simulation.py:198: VisibleDeprecationWarning: Creating an ndarray from ragged nested sequences (which is a list-or-tuple of lists-or-tuples-or ndarrays with different lengths or shapes) is deprecated. If you meant to do this, you must specify 'dtype=object' when creating the ndarray.\n",
      "  pos = np.array([*np.array(positions)[:,0]])\n",
      "/Library/Frameworks/Python.framework/Versions/3.8/lib/python3.8/site-packages/numpy/lib/npyio.py:528: VisibleDeprecationWarning: Creating an ndarray from ragged nested sequences (which is a list-or-tuple of lists-or-tuples-or ndarrays with different lengths or shapes) is deprecated. If you meant to do this, you must specify 'dtype=object' when creating the ndarray.\n",
      "  arr = np.asanyarray(arr)\n"
     ]
    },
    {
     "name": "stdout",
     "output_type": "stream",
     "text": [
      "Successfull sim !\n",
      "6.355984210968018 seconds to run simulation\n",
      "Length = 0.1 , Duration = 0.7\n",
      "Successfull sim !\n",
      "6.542984962463379 seconds to run simulation\n",
      "Length = 0.15000000000000002 , Duration = 0.7\n",
      "Successfull sim !\n",
      "5.756924867630005 seconds to run simulation\n",
      "Length = 0.2 , Duration = 0.7\n",
      "Successfull sim !\n",
      "6.118803024291992 seconds to run simulation\n",
      "Length = 0.25 , Duration = 0.7\n",
      "Successfull sim !\n",
      "5.909096956253052 seconds to run simulation\n",
      "Length = 0.3 , Duration = 0.7\n",
      "Successfull sim !\n",
      "5.803241014480591 seconds to run simulation\n",
      "Length = 0.35000000000000003 , Duration = 0.7\n",
      "Successfull sim !\n",
      "5.885380983352661 seconds to run simulation\n",
      "Length = 0.4 , Duration = 0.7\n",
      "Successfull sim !\n",
      "5.561635971069336 seconds to run simulation\n",
      "Length = 0.45 , Duration = 0.7\n",
      "Successfull sim !\n",
      "5.814143896102905 seconds to run simulation\n",
      "Length = 0.05 , Duration = 0.7999999999999999\n",
      "Successfull sim !\n",
      "6.365787982940674 seconds to run simulation\n",
      "Length = 0.1 , Duration = 0.7999999999999999\n",
      "Successfull sim !\n",
      "6.249972105026245 seconds to run simulation\n",
      "Length = 0.15000000000000002 , Duration = 0.7999999999999999\n",
      "Successfull sim !\n",
      "5.8471832275390625 seconds to run simulation\n",
      "Length = 0.2 , Duration = 0.7999999999999999\n",
      "Successfull sim !\n",
      "6.174068927764893 seconds to run simulation\n",
      "Length = 0.25 , Duration = 0.7999999999999999\n",
      "Successfull sim !\n",
      "5.7498979568481445 seconds to run simulation\n",
      "Length = 0.3 , Duration = 0.7999999999999999\n",
      "Successfull sim !\n",
      "5.961690187454224 seconds to run simulation\n",
      "Length = 0.35000000000000003 , Duration = 0.7999999999999999\n",
      "Successfull sim !\n",
      "5.838691234588623 seconds to run simulation\n",
      "Length = 0.4 , Duration = 0.7999999999999999\n",
      "Successfull sim !\n",
      "5.547818899154663 seconds to run simulation\n",
      "Length = 0.45 , Duration = 0.7999999999999999\n",
      "Successfull sim !\n",
      "6.016587972640991 seconds to run simulation\n",
      "Length = 0.05 , Duration = 0.8999999999999999\n",
      "Successfull sim !\n",
      "6.2651660442352295 seconds to run simulation\n",
      "Length = 0.1 , Duration = 0.8999999999999999\n",
      "Successfull sim !\n",
      "6.112023115158081 seconds to run simulation\n",
      "Length = 0.15000000000000002 , Duration = 0.8999999999999999\n",
      "Successfull sim !\n",
      "5.872988939285278 seconds to run simulation\n",
      "Length = 0.2 , Duration = 0.8999999999999999\n",
      "Successfull sim !\n",
      "6.278911113739014 seconds to run simulation\n",
      "Length = 0.25 , Duration = 0.8999999999999999\n",
      "Successfull sim !\n",
      "6.126553058624268 seconds to run simulation\n",
      "Length = 0.3 , Duration = 0.8999999999999999\n",
      "Successfull sim !\n",
      "5.808218002319336 seconds to run simulation\n",
      "Length = 0.35000000000000003 , Duration = 0.8999999999999999\n",
      "Successfull sim !\n",
      "5.963572978973389 seconds to run simulation\n",
      "Length = 0.4 , Duration = 0.8999999999999999\n",
      "Successfull sim !\n",
      "5.878799200057983 seconds to run simulation\n",
      "Length = 0.45 , Duration = 0.8999999999999999\n",
      "Successfull sim !\n",
      "5.906023263931274 seconds to run simulation\n",
      "Length = 0.05 , Duration = 0.9999999999999999\n",
      "Successfull sim !\n",
      "5.9103779792785645 seconds to run simulation\n",
      "Length = 0.1 , Duration = 0.9999999999999999\n",
      "Successfull sim !\n",
      "6.350439786911011 seconds to run simulation\n",
      "Length = 0.15000000000000002 , Duration = 0.9999999999999999\n",
      "Successfull sim !\n",
      "6.2826619148254395 seconds to run simulation\n",
      "Length = 0.2 , Duration = 0.9999999999999999\n",
      "Successfull sim !\n",
      "6.20185112953186 seconds to run simulation\n",
      "Length = 0.25 , Duration = 0.9999999999999999\n",
      "Successfull sim !\n",
      "5.776407718658447 seconds to run simulation\n",
      "Length = 0.3 , Duration = 0.9999999999999999\n",
      "Successfull sim !\n",
      "5.653033018112183 seconds to run simulation\n",
      "Length = 0.35000000000000003 , Duration = 0.9999999999999999\n",
      "Successfull sim !\n",
      "5.9083967208862305 seconds to run simulation\n",
      "Length = 0.4 , Duration = 0.9999999999999999\n",
      "Successfull sim !\n",
      "5.580485105514526 seconds to run simulation\n",
      "Length = 0.45 , Duration = 0.9999999999999999\n",
      "Successfull sim !\n",
      "5.706033229827881 seconds to run simulation\n",
      "Length = 0.05 , Duration = 1.0999999999999999\n",
      "Successfull sim !\n",
      "5.8653459548950195 seconds to run simulation\n",
      "Length = 0.1 , Duration = 1.0999999999999999\n",
      "Successfull sim !\n",
      "6.184698820114136 seconds to run simulation\n",
      "Length = 0.15000000000000002 , Duration = 1.0999999999999999\n",
      "Successfull sim !\n",
      "5.782707929611206 seconds to run simulation\n",
      "Length = 0.2 , Duration = 1.0999999999999999\n",
      "Successfull sim !\n",
      "6.166686296463013 seconds to run simulation\n",
      "Length = 0.25 , Duration = 1.0999999999999999\n",
      "Successfull sim !\n",
      "5.830892086029053 seconds to run simulation\n",
      "Length = 0.3 , Duration = 1.0999999999999999\n",
      "Successfull sim !\n",
      "5.713634967803955 seconds to run simulation\n",
      "Length = 0.35000000000000003 , Duration = 1.0999999999999999\n",
      "Successfull sim !\n",
      "5.67699670791626 seconds to run simulation\n",
      "Length = 0.4 , Duration = 1.0999999999999999\n",
      "Successfull sim !\n",
      "5.65563702583313 seconds to run simulation\n",
      "Length = 0.45 , Duration = 1.0999999999999999\n",
      "Successfull sim !\n",
      "5.862319707870483 seconds to run simulation\n",
      "Length = 0.05 , Duration = 1.1999999999999997\n",
      "Successfull sim !\n",
      "6.301574230194092 seconds to run simulation\n",
      "Length = 0.1 , Duration = 1.1999999999999997\n",
      "Successfull sim !\n",
      "6.027096748352051 seconds to run simulation\n",
      "Length = 0.15000000000000002 , Duration = 1.1999999999999997\n",
      "Successfull sim !\n",
      "5.801154851913452 seconds to run simulation\n",
      "Length = 0.2 , Duration = 1.1999999999999997\n",
      "Successfull sim !\n",
      "5.814515113830566 seconds to run simulation\n",
      "Length = 0.25 , Duration = 1.1999999999999997\n",
      "Successfull sim !\n",
      "5.606817960739136 seconds to run simulation\n",
      "Length = 0.3 , Duration = 1.1999999999999997\n",
      "Successfull sim !\n",
      "5.97796106338501 seconds to run simulation\n",
      "Length = 0.35000000000000003 , Duration = 1.1999999999999997\n",
      "Successfull sim !\n",
      "6.092399835586548 seconds to run simulation\n",
      "Length = 0.4 , Duration = 1.1999999999999997\n",
      "Successfull sim !\n",
      "5.9986090660095215 seconds to run simulation\n",
      "Length = 0.45 , Duration = 1.1999999999999997\n",
      "Successfull sim !\n",
      "5.9196648597717285 seconds to run simulation\n",
      "Length = 0.05 , Duration = 1.2999999999999998\n",
      "Successfull sim !\n",
      "5.910840034484863 seconds to run simulation\n",
      "Length = 0.1 , Duration = 1.2999999999999998\n",
      "Successfull sim !\n",
      "6.077182292938232 seconds to run simulation\n",
      "Length = 0.15000000000000002 , Duration = 1.2999999999999998\n",
      "Successfull sim !\n",
      "5.9399988651275635 seconds to run simulation\n",
      "Length = 0.2 , Duration = 1.2999999999999998\n",
      "Successfull sim !\n",
      "5.880591154098511 seconds to run simulation\n",
      "Length = 0.25 , Duration = 1.2999999999999998\n",
      "Successfull sim !\n",
      "5.885326147079468 seconds to run simulation\n",
      "Length = 0.3 , Duration = 1.2999999999999998\n",
      "Successfull sim !\n",
      "5.525377035140991 seconds to run simulation\n",
      "Length = 0.35000000000000003 , Duration = 1.2999999999999998\n",
      "Successfull sim !\n",
      "5.714761257171631 seconds to run simulation\n",
      "Length = 0.4 , Duration = 1.2999999999999998\n",
      "Successfull sim !\n",
      "5.7523980140686035 seconds to run simulation\n",
      "Length = 0.45 , Duration = 1.2999999999999998\n",
      "Successfull sim !\n",
      "6.123067855834961 seconds to run simulation\n"
     ]
    },
    {
     "ename": "TypeError",
     "evalue": "can only concatenate str (not \"float\") to str",
     "output_type": "error",
     "traceback": [
      "\u001b[0;31m---------------------------------------------------------------------------\u001b[0m",
      "\u001b[0;31mTypeError\u001b[0m                                 Traceback (most recent call last)",
      "\u001b[0;32m<ipython-input-43-0b8a2548c416>\u001b[0m in \u001b[0;36m<module>\u001b[0;34m\u001b[0m\n\u001b[1;32m     15\u001b[0m \u001b[0;34m\u001b[0m\u001b[0m\n\u001b[1;32m     16\u001b[0m \u001b[0msim_time\u001b[0m \u001b[0;34m=\u001b[0m \u001b[0mtime\u001b[0m\u001b[0;34m.\u001b[0m\u001b[0mtime\u001b[0m\u001b[0;34m(\u001b[0m\u001b[0;34m)\u001b[0m \u001b[0;34m-\u001b[0m \u001b[0mt0\u001b[0m\u001b[0;34m\u001b[0m\u001b[0;34m\u001b[0m\u001b[0m\n\u001b[0;32m---> 17\u001b[0;31m \u001b[0mprint\u001b[0m\u001b[0;34m(\u001b[0m\u001b[0;34m\"Total search time : \"\u001b[0m \u001b[0;34m+\u001b[0m \u001b[0msim_time\u001b[0m\u001b[0;34m)\u001b[0m\u001b[0;34m\u001b[0m\u001b[0;34m\u001b[0m\u001b[0m\n\u001b[0m",
      "\u001b[0;31mTypeError\u001b[0m: can only concatenate str (not \"float\") to str"
     ]
    }
   ],
   "source": [
    "results = []\n",
    "\n",
    "t0 = time.time()\n",
    "\n",
    "for duration in stepDurationSpace:\n",
    "    for length in stepLengthSpace:\n",
    "        print(\"Length = \"  + str(length) + \" , Duration = \" + str(duration) )\n",
    "        vel, pos, delta_time, average_speed = run_episode(length,stepDuration)\n",
    "        result = {\n",
    "            \"stepDuration\" : duration,\n",
    "            \"stepLength\" : length,\n",
    "            \"average_speed\" : average_speed,\n",
    "        }\n",
    "        results.append(result)\n",
    "\n",
    "sim_time = time.time() - t0\n",
    "print(\"Total search time : \" + str(sim_time))"
   ]
  },
  {
   "cell_type": "code",
   "execution_count": 63,
   "metadata": {},
   "outputs": [
    {
     "name": "stdout",
     "output_type": "stream",
     "text": [
      "Lenght - Duration Space plot : \n"
     ]
    },
    {
     "data": {
      "image/png": "[encoded data removed]",
      "text/plain": [
       "<Figure size 432x288 with 2 Axes>"
      ]
     },
     "metadata": {
      "needs_background": "light"
     },
     "output_type": "display_data"
    },
    {
     "name": "stdout",
     "output_type": "stream",
     "text": [
      "Optimal duration : 0.7\n",
      "Optimal length : 0.2\n"
     ]
    }
   ],
   "source": [
    "import seaborn as sns\n",
    "\n",
    "averageSpeeds = np.array([e['average_speed'] for e in results])\n",
    "\n",
    "\n",
    "hmvalues = np.reshape(averageSpeeds, (-1, len(stepDurationSpace)))\n",
    "ax = sns.heatmap(hmvalues, cmap=\"RdPu\", xticklabels=stepDurationSpace, yticklabels=stepLengthSpace)\n",
    "\n",
    "\n",
    "print(\"Lenght - Duration Space plot : \")\n",
    "plt.show()\n",
    "\n",
    "max_s = 0\n",
    "for r in results:\n",
    "    if r['average_speed'] > max_s:\n",
    "        max_s = r['average_speed']\n",
    "        opt_length = r['stepLength']\n",
    "        opt_duration = r['stepDuration']\n",
    "        \n",
    "print(\"Optimal duration : \" + str(opt_duration))\n",
    "print(\"Optimal length : \" + str(opt_length))"
   ]
  },
  {
   "cell_type": "code",
   "execution_count": null,
   "metadata": {},
   "outputs": [],
   "source": []
  }
 ],
 "metadata": {
  "interpreter": {
   "hash": "0adcc2737ebf6a4a119f135174df96668767fca1ef1112612db5ecadf2b6d608"
  },
  "kernelspec": {
   "display_name": "Python 3.8.6 64-bit",
   "name": "python3"
  },
  "language_info": {
   "codemirror_mode": {
    "name": "ipython",
    "version": 3
   },
   "file_extension": ".py",
   "mimetype": "text/x-python",
   "name": "python",
   "nbconvert_exporter": "python",
   "pygments_lexer": "ipython3",
   "version": "3.8.6"
  },
  "orig_nbformat": 4
 },
 "nbformat": 4,
 "nbformat_minor": 2
}
